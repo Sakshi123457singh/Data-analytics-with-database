{
 "cells": [
  {
   "cell_type": "markdown",
   "metadata": {},
   "source": [
    "*syntax*   \n",
    "...    \n",
    "def fun_name([parameters]):   \n",
    "    statement 1    \n",
    "    statement 2      \n",
    "    ...    \n",
    "    statement n       \n",
    "    [return value]      "
   ]
  },
  {
   "cell_type": "markdown",
   "metadata": {},
   "source": [
    "Type of user defined functions   \n",
    "1. Non-parameterized non returning function     \n",
    "2. value returing function      \n",
    "3. parameterized function      \n",
    "    - positional required arguments    \n",
    "    - named arguments      \n",
    "    - variable length arguments    \n",
    "    - keyword arguments         \n",
    "4. parameterized and value returning function\n",
    "5. Lamda functions  "
   ]
  },
  {
   "cell_type": "code",
   "execution_count": 1,
   "metadata": {},
   "outputs": [],
   "source": [
    "from random import random"
   ]
  },
  {
   "cell_type": "code",
   "execution_count": 2,
   "metadata": {},
   "outputs": [
    {
     "data": {
      "text/plain": [
       "0.6792921207069145"
      ]
     },
     "execution_count": 2,
     "metadata": {},
     "output_type": "execute_result"
    }
   ],
   "source": [
    "random()"
   ]
  },
  {
   "cell_type": "code",
   "execution_count": 5,
   "metadata": {},
   "outputs": [],
   "source": [
    "def inspireMe():\n",
    "    from random import choice\n",
    "    q=[\n",
    "        'The best way to predict the future is invent it.',\n",
    "        'The most important step is always the next step',\n",
    "        'Hardwork beats talent',\n",
    "        'Early to bed'\n",
    "    ]\n",
    "    return choice(q)"
   ]
  },
  {
   "cell_type": "code",
   "execution_count": 6,
   "metadata": {},
   "outputs": [
    {
     "data": {
      "text/plain": [
       "'The most important step is always the next step'"
      ]
     },
     "execution_count": 6,
     "metadata": {},
     "output_type": "execute_result"
    }
   ],
   "source": [
    "inspireMe()"
   ]
  },
  {
   "cell_type": "code",
   "execution_count": 8,
   "metadata": {},
   "outputs": [
    {
     "name": "stdout",
     "output_type": "stream",
     "text": [
      "4\n",
      "5\n"
     ]
    }
   ],
   "source": [
    "def dicey():\n",
    "    from random import randint\n",
    "    return randint(1,6)\n",
    "\n",
    "print(dicey())\n",
    "print(dicey())"
   ]
  },
  {
   "cell_type": "code",
   "execution_count": 9,
   "metadata": {},
   "outputs": [
    {
     "name": "stdout",
     "output_type": "stream",
     "text": [
      "5\n"
     ]
    }
   ],
   "source": [
    "roll=dicey()\n",
    "print(roll)"
   ]
  },
  {
   "cell_type": "code",
   "execution_count": 10,
   "metadata": {},
   "outputs": [
    {
     "data": {
      "text/plain": [
       "28"
      ]
     },
     "execution_count": 10,
     "metadata": {},
     "output_type": "execute_result"
    }
   ],
   "source": [
    "dicey()+dicey()*5"
   ]
  },
  {
   "cell_type": "code",
   "execution_count": 13,
   "metadata": {},
   "outputs": [],
   "source": [
    "#make a function which is prime number\n",
    "def is_prime(num):\n",
    "    for i in range(2, num):\n",
    "        if num % i == 0:\n",
    "            return False\n",
    "    return True\n",
    "\n"
   ]
  },
  {
   "cell_type": "code",
   "execution_count": 14,
   "metadata": {},
   "outputs": [
    {
     "data": {
      "text/plain": [
       "True"
      ]
     },
     "execution_count": 14,
     "metadata": {},
     "output_type": "execute_result"
    }
   ],
   "source": [
    "is_prime(13)"
   ]
  },
  {
   "cell_type": "code",
   "execution_count": 16,
   "metadata": {},
   "outputs": [],
   "source": [
    "def si(p,r,t):\n",
    "    ans=p*r*t/100\n",
    "    print(\"Principle: \", p)\n",
    "    print(\"Rate: \", r)\n",
    "    print('Time: ', t)\n",
    "    print(\"Simple Intrest: \", ans)"
   ]
  },
  {
   "cell_type": "code",
   "execution_count": 17,
   "metadata": {},
   "outputs": [
    {
     "name": "stdout",
     "output_type": "stream",
     "text": [
      "Principle:  12000\n",
      "Rate:  5\n",
      "Time:  10\n",
      "Simple Intrest:  6000.0\n"
     ]
    }
   ],
   "source": [
    "si(12000,5,10)"
   ]
  },
  {
   "cell_type": "markdown",
   "metadata": {},
   "source": [
    "Waf to remove all the punctuations from the string provided by the user  \n",
    "hints  \n",
    "from string import punctutaion  "
   ]
  },
  {
   "cell_type": "code",
   "execution_count": 25,
   "metadata": {},
   "outputs": [
    {
     "data": {
      "text/plain": [
       "'how are u'"
      ]
     },
     "execution_count": 25,
     "metadata": {},
     "output_type": "execute_result"
    }
   ],
   "source": [
    "from string import punctuation \n",
    "def clean_punc(data):\n",
    "    for p in punctuation:\n",
    "        data=data.replace(p , '')\n",
    "    return data\n",
    "\n",
    "data = '@#@$#%^$^*(#(@h@o#w@% a%r$^&%&%(:\"{!@#$%{}!@e!@# u'\n",
    "clean_punc(data)"
   ]
  },
  {
   "cell_type": "code",
   "execution_count": null,
   "metadata": {},
   "outputs": [],
   "source": [
    "# the expanded way to write a function\n",
    "def summer(x:int, y:int, z:int) -> int:\n",
    "    '''A function that returns that sum of x,y, and z'''\n",
    "    return x+y+z"
   ]
  },
  {
   "cell_type": "code",
   "execution_count": 2,
   "metadata": {},
   "outputs": [],
   "source": [
    "def summer (x,y,z):\n",
    "    return x+y+z"
   ]
  },
  {
   "cell_type": "code",
   "execution_count": 4,
   "metadata": {},
   "outputs": [
    {
     "name": "stdout",
     "output_type": "stream",
     "text": [
      "60\n",
      "60\n"
     ]
    }
   ],
   "source": [
    "print(summer(10,20,30))\n",
    "print(summer(x=10,y=20,z=30))# named parameters"
   ]
  },
  {
   "cell_type": "code",
   "execution_count": 5,
   "metadata": {},
   "outputs": [
    {
     "name": "stdout",
     "output_type": "stream",
     "text": [
      "60\n"
     ]
    }
   ],
   "source": [
    "a = int(input(\"Enter a value: \"))\n",
    "b = int(input(\"Enter a value:\"))\n",
    "c = int(input(\"Enter a value:\"))\n",
    "ans = summer(x=a, y=b, z=c)\n",
    "print(ans)"
   ]
  },
  {
   "cell_type": "code",
   "execution_count": 6,
   "metadata": {},
   "outputs": [
    {
     "data": {
      "text/plain": [
       "21"
      ]
     },
     "execution_count": 6,
     "metadata": {},
     "output_type": "execute_result"
    }
   ],
   "source": [
    "summer(y=10, x=10, z=1)"
   ]
  },
  {
   "cell_type": "code",
   "execution_count": 9,
   "metadata": {},
   "outputs": [
    {
     "name": "stdout",
     "output_type": "stream",
     "text": [
      "10\n",
      "20\n",
      "30\n",
      "60000\n"
     ]
    }
   ],
   "source": [
    "def multiplier(a,b=1,c=1,d=1):\n",
    "    return a*b*c*d\n",
    "\n",
    "print(multiplier(10))\n",
    "print(multiplier(10, b=2))\n",
    "print(multiplier(10,3))\n",
    "print(multiplier(10,d=10, c=20, b=30))"
   ]
  },
  {
   "cell_type": "code",
   "execution_count": 10,
   "metadata": {},
   "outputs": [
    {
     "name": "stdout",
     "output_type": "stream",
     "text": [
      "1\n",
      "10\n",
      "200\n",
      "2400\n",
      "137749507200\n"
     ]
    }
   ],
   "source": [
    " #ordding * to a parameter makes it a tuple object -> variable \n",
    "def multiplier(*nums):\n",
    "    result=1\n",
    "    for num in nums:\n",
    "        result *= num\n",
    "    return result\n",
    "#use\n",
    "print(multiplier())\n",
    "print(multiplier(10))\n",
    "print(multiplier(10,20))\n",
    "print(multiplier(10,2,3,1,2,4,5))\n",
    "print(multiplier(10,2,3,1,2,4,5,1,2,2,3,3,3,3,3,3,3,3,3,3,3,3,3,3,3))"
   ]
  },
  {
   "cell_type": "code",
   "execution_count": 12,
   "metadata": {},
   "outputs": [
    {
     "name": "stdout",
     "output_type": "stream",
     "text": [
      "a this\n",
      "b that\n",
      "c the other\n",
      "d somthing\n"
     ]
    }
   ],
   "source": [
    "#variable length keyword arguments \n",
    "def msg(**kwargs):\n",
    "    for k,v in kwargs.items():\n",
    "        print(k,v)\n",
    "msg(a='this', b= 'that', c= 'the other',d='somthing')"
   ]
  },
  {
   "cell_type": "code",
   "execution_count": 13,
   "metadata": {},
   "outputs": [
    {
     "data": {
      "text/plain": [
       "'Records saved successfully'"
      ]
     },
     "execution_count": 13,
     "metadata": {},
     "output_type": "execute_result"
    }
   ],
   "source": [
    "# Records\n",
    "def student_records(**students):\n",
    "    with open('records.txt','a') as file:\n",
    "        for k,v in students.items():\n",
    "            file.write (f'{k} => {v}\\n')\n",
    "        file.write('\\n')\n",
    "    return 'Records saved successfully'\n",
    "student_records(\n",
    "    ales=87,\n",
    "    arun=59,\n",
    "    rakesh = 92,\n",
    "    suresh= 99,\n",
    "    brijesh =67\n",
    ")"
   ]
  },
  {
   "cell_type": "code",
   "execution_count": 14,
   "metadata": {},
   "outputs": [
    {
     "data": {
      "text/plain": [
       "'Records saved successfully'"
      ]
     },
     "execution_count": 14,
     "metadata": {},
     "output_type": "execute_result"
    }
   ],
   "source": [
    "student_records(\n",
    "    sakshi=45,\n",
    "    lakshmi=56,\n",
    "    aditi=67,\n",
    "    chhavi=278\n",
    ")"
   ]
  },
  {
   "cell_type": "markdown",
   "metadata": {},
   "source": [
    "'f(x) = x**2 + x*10 + x'    \n",
    "\n",
    "'g(x, y) = x ** y + y ** 2 + x*y'  \n",
    "\n",
    "f(2) \n",
    "\n",
    "f(3) "
   ]
  },
  {
   "cell_type": "code",
   "execution_count": 17,
   "metadata": {},
   "outputs": [
    {
     "name": "stdout",
     "output_type": "stream",
     "text": [
      "<function <lambda> at 0x000002B82AE58700>\n",
      "42\n",
      "60\n",
      "80\n",
      "37\n",
      "61\n"
     ]
    }
   ],
   "source": [
    "f = lambda x: x**2 + x*10 + x\n",
    "g = lambda x, y: x**2 + y**2 + x*y\n",
    "print(f)\n",
    "print(f(3))\n",
    "print(f(4))\n",
    "print(f(5))\n",
    "print(g(3, 4))\n",
    "print(g(4, 5))"
   ]
  },
  {
   "cell_type": "markdown",
   "metadata": {},
   "source": [
    "map ,raduce  "
   ]
  },
  {
   "cell_type": "code",
   "execution_count": 18,
   "metadata": {},
   "outputs": [
    {
     "name": "stdout",
     "output_type": "stream",
     "text": [
      "[276, 60, 102, 126, 1230, 3752, 8900]\n"
     ]
    }
   ],
   "source": [
    "data = [12,4,6,7,30,56,89]\n",
    "data2 = []\n",
    "for val in data:\n",
    "    data2.append(f(val))\n",
    "print(data2)"
   ]
  },
  {
   "cell_type": "code",
   "execution_count": 19,
   "metadata": {},
   "outputs": [
    {
     "name": "stdout",
     "output_type": "stream",
     "text": [
      "[276, 60, 102, 126, 1230, 3752, 8900]\n"
     ]
    }
   ],
   "source": [
    "data = [12,4,6,7,30,56,89]\n",
    "data2 = list(map(f, data))\n",
    "print(data2)"
   ]
  },
  {
   "cell_type": "code",
   "execution_count": null,
   "metadata": {},
   "outputs": [],
   "source": []
  }
 ],
 "metadata": {
  "kernelspec": {
   "display_name": "base",
   "language": "python",
   "name": "python3"
  },
  "language_info": {
   "codemirror_mode": {
    "name": "ipython",
    "version": 3
   },
   "file_extension": ".py",
   "mimetype": "text/x-python",
   "name": "python",
   "nbconvert_exporter": "python",
   "pygments_lexer": "ipython3",
   "version": "3.10.10"
  },
  "orig_nbformat": 4
 },
 "nbformat": 4,
 "nbformat_minor": 2
}
