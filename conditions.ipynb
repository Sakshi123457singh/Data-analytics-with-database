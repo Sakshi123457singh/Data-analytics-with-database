{
 "cells": [
  {
   "cell_type": "markdown",
   "metadata": {},
   "source": [
    "condition\n",
    "- if\n",
    "- if else\n",
    "- if elif else\n",
    "- match case\n"
   ]
  },
  {
   "cell_type": "code",
   "execution_count": 1,
   "metadata": {},
   "outputs": [],
   "source": [
    "x = 10\n",
    "y =3"
   ]
  },
  {
   "cell_type": "code",
   "execution_count": 2,
   "metadata": {},
   "outputs": [
    {
     "name": "stdout",
     "output_type": "stream",
     "text": [
      "x is greater than y\n",
      "that is true\n",
      "execute\n"
     ]
    }
   ],
   "source": [
    "if x>y:\n",
    "    print(\"x is greater than y\")\n",
    "    print(\"that is true\")\n",
    "print(\"execute\")"
   ]
  },
  {
   "cell_type": "code",
   "execution_count": 3,
   "metadata": {},
   "outputs": [],
   "source": [
    "if x==y:\n",
    "    print(\"wow\")"
   ]
  },
  {
   "cell_type": "code",
   "execution_count": 4,
   "metadata": {},
   "outputs": [
    {
     "name": "stdout",
     "output_type": "stream",
     "text": [
      "x is greater than y and x is greater than 8\n"
     ]
    }
   ],
   "source": [
    "if x>y and x>8:\n",
    "    print(\"x is greater than y and x is greater than 8\")"
   ]
  },
  {
   "cell_type": "markdown",
   "metadata": {},
   "source": [
    "true values  \n",
    "- True  \n",
    "-non-zero numbers   \n",
    "-non-empty strings  \n",
    "False values  \n",
    "-False  \n",
    "-0  \n",
    "-0.0  \n",
    "-none  \n",
    "-empty strings  "
   ]
  },
  {
   "cell_type": "code",
   "execution_count": 5,
   "metadata": {},
   "outputs": [
    {
     "name": "stdout",
     "output_type": "stream",
     "text": [
      "ypu entered sakshi\n"
     ]
    }
   ],
   "source": [
    "name= input('enter the name')\n",
    "if name:\n",
    "    print(f'ypu entered {name}')\n",
    "else:\n",
    "    print(\"you did not enter a name\")"
   ]
  },
  {
   "cell_type": "code",
   "execution_count": 6,
   "metadata": {},
   "outputs": [
    {
     "name": "stdout",
     "output_type": "stream",
     "text": [
      "odd\n"
     ]
    }
   ],
   "source": [
    "x= int(input('Enter the number'))\n",
    "if x%2==0:\n",
    "    print('even')\n",
    "else:\n",
    "    print('odd')"
   ]
  },
  {
   "cell_type": "code",
   "execution_count": 7,
   "metadata": {},
   "outputs": [
    {
     "name": "stdout",
     "output_type": "stream",
     "text": [
      "Invalid password\n"
     ]
    }
   ],
   "source": [
    "username= input('Enter the username')\n",
    "password= input('Enter password')\n",
    "if username== 'admin':\n",
    "    if password == '123476admin':\n",
    "        print ('welcome admin')\n",
    "    else:\n",
    "        print('Invalide user')\n",
    "else:\n",
    "    print('Invalid password')"
   ]
  },
  {
   "cell_type": "code",
   "execution_count": 8,
   "metadata": {},
   "outputs": [
    {
     "name": "stdout",
     "output_type": "stream",
     "text": [
      "today is Holiday\n"
     ]
    }
   ],
   "source": [
    "day = input('Enter day')\n",
    "if day== 'monday':\n",
    "    print('monday')\n",
    "elif day == 'teusday':\n",
    "    print('teusday')\n",
    "elif day == 'wednesday':\n",
    "    print('wednesday')\n",
    "else:\n",
    "    print('today is Holiday')"
   ]
  },
  {
   "cell_type": "code",
   "execution_count": 9,
   "metadata": {},
   "outputs": [
    {
     "name": "stdout",
     "output_type": "stream",
     "text": [
      "Time to work\n"
     ]
    }
   ],
   "source": [
    "day = input('Enter day')\n",
    "match day:\n",
    "    case 'monady':\n",
    "        print('Time to work')\n",
    "    case 'tuesday':\n",
    "        print(' Time to work again')\n",
    "    case 'thursday':\n",
    "        print('Almost there')\n",
    "    case 'friday':\n",
    "        print('Weekend, not really')\n",
    "    case _:\n",
    "        print('Holiday')\n"
   ]
  },
  {
   "cell_type": "code",
   "execution_count": 12,
   "metadata": {},
   "outputs": [
    {
     "name": "stdout",
     "output_type": "stream",
     "text": [
      "Aries\n"
     ]
    }
   ],
   "source": [
    "month = input ('Enter month')\n",
    "match month:\n",
    "    case 'january':\n",
    "        print('Aries')\n",
    "    case 'Fabuary':\n",
    "        print('picies')\n",
    "    case 'march':\n",
    "        print('Capricon')\n",
    "    case _:\n",
    "        print('Invalid Month')"
   ]
  },
  {
   "cell_type": "code",
   "execution_count": null,
   "metadata": {},
   "outputs": [],
   "source": []
  }
 ],
 "metadata": {
  "kernelspec": {
   "display_name": "base",
   "language": "python",
   "name": "python3"
  },
  "language_info": {
   "codemirror_mode": {
    "name": "ipython",
    "version": 3
   },
   "file_extension": ".py",
   "mimetype": "text/x-python",
   "name": "python",
   "nbconvert_exporter": "python",
   "pygments_lexer": "ipython3",
   "version": "3.10.10"
  },
  "orig_nbformat": 4
 },
 "nbformat": 4,
 "nbformat_minor": 2
}
