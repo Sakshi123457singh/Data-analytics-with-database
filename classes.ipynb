{
 "cells": [
  {
   "cell_type": "markdown",
   "metadata": {},
   "source": []
  },
  {
   "cell_type": "code",
   "execution_count": 3,
   "metadata": {},
   "outputs": [],
   "source": [
    "class Cat:\n",
    "    def __init__(self):\n",
    "        print(\"The class constructor\")"
   ]
  },
  {
   "cell_type": "code",
   "execution_count": 7,
   "metadata": {},
   "outputs": [
    {
     "name": "stdout",
     "output_type": "stream",
     "text": [
      "The class constructor\n",
      "<__main__.Cat object at 0x000001CCBED75DE0>\n"
     ]
    },
    {
     "data": {
      "text/plain": [
       "__main__.Cat"
      ]
     },
     "execution_count": 7,
     "metadata": {},
     "output_type": "execute_result"
    }
   ],
   "source": [
    "#int is a class \n",
    "#list is a class\n",
    "c1 = Cat()\n",
    "print(c1)\n",
    "type(c1)\n"
   ]
  },
  {
   "cell_type": "code",
   "execution_count": 10,
   "metadata": {},
   "outputs": [],
   "source": [
    "class Student:#instance method is remember everything \n",
    "    def __init__(self, name,klass,roll_no,stream=\"bio\"):\n",
    "        self.name=name\n",
    "        self.klass=klass\n",
    "        self.roll_no=roll_no\n",
    "        self.stream=stream\n",
    "        self.marks= {} #property of the class\n",
    "\n",
    "    def think(self,object):\n",
    "        print(f\"{self.name} is thinking {object}\")\n",
    "    def setMarks(self,subject,value):\n",
    "         self.marks[subject ]= value\n"
   ]
  },
  {
   "cell_type": "code",
   "execution_count": 11,
   "metadata": {},
   "outputs": [],
   "source": [
    "Adt= Student(\"Aditi\",12,'22',\"math\")\n",
    "Al = Student(\"Anmol\",11,'23')\n",
    "\n",
    "Al.setMarks('Hindi',90)\n",
    "Al.setMarks('MAth',34)\n",
    "Al.setMarks('English',89)\n",
    "Adt.setMarks('Hindi',98)\n",
    "Adt.setMarks('Math',100)\n",
    "Adt.setMarks('English',99)"
   ]
  },
  {
   "cell_type": "code",
   "execution_count": 15,
   "metadata": {},
   "outputs": [
    {
     "name": "stdout",
     "output_type": "stream",
     "text": [
      "{'Hindi': 98, 'Math': 100, 'English': 99}\n",
      "{'Hindi': 90, 'MAth': 34, 'English': 89}\n"
     ]
    }
   ],
   "source": [
    "print(Adt.marks)\n",
    "print(Al.marks)"
   ]
  },
  {
   "cell_type": "code",
   "execution_count": null,
   "metadata": {},
   "outputs": [],
   "source": []
  },
  {
   "cell_type": "markdown",
   "metadata": {},
   "source": [
    "Inheritance   we can increase the functionality of the given function  "
   ]
  },
  {
   "cell_type": "code",
   "execution_count": 18,
   "metadata": {},
   "outputs": [],
   "source": [
    "class SuperList(list):\n",
    "    def all_index(self,search):\n",
    "        idxs = []\n",
    "        start_idx = 0\n",
    "        for  i in range (self.count(search)):\n",
    "            pos = self.index(search, start_idx)\n",
    "            idxs.append(pos)\n",
    "            start_idx = pos+1\n",
    "        return idxs"
   ]
  },
  {
   "cell_type": "code",
   "execution_count": 19,
   "metadata": {},
   "outputs": [
    {
     "name": "stdout",
     "output_type": "stream",
     "text": [
      "[1, 2, 3, 4, 5, 5, 7, 6, 7, 8, 9, 3]\n",
      "[1, 2, 3, 4, 5, 5, 7, 6, 7, 8, 9, 3, 20]\n"
     ]
    }
   ],
   "source": [
    "x= SuperList([1,2,3,4,5,5,7,6,7,8,9,3])\n",
    "print(x)\n",
    "x.append(20)\n",
    "print(x)"
   ]
  },
  {
   "cell_type": "code",
   "execution_count": 20,
   "metadata": {},
   "outputs": [
    {
     "data": {
      "text/plain": [
       "[4, 5]"
      ]
     },
     "execution_count": 20,
     "metadata": {},
     "output_type": "execute_result"
    }
   ],
   "source": [
    "\n",
    "x.all_index(5)"
   ]
  },
  {
   "cell_type": "code",
   "execution_count": null,
   "metadata": {},
   "outputs": [],
   "source": []
  }
 ],
 "metadata": {
  "kernelspec": {
   "display_name": "base",
   "language": "python",
   "name": "python3"
  },
  "language_info": {
   "codemirror_mode": {
    "name": "ipython",
    "version": 3
   },
   "file_extension": ".py",
   "mimetype": "text/x-python",
   "name": "python",
   "nbconvert_exporter": "python",
   "pygments_lexer": "ipython3",
   "version": "3.10.10"
  },
  "orig_nbformat": 4
 },
 "nbformat": 4,
 "nbformat_minor": 2
}
