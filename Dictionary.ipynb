{
 "cells": [
  {
   "cell_type": "code",
   "execution_count": null,
   "metadata": {},
   "outputs": [],
   "source": [
    "raju=[56,90,34,34,56]#json=dictionary\n",
    "raju_dictionary={\n",
    "    'English' : 56,\n",
    "    'Hindi' : 90,\n",
    "    'Math' : 34,\n",
    "    'Chemistry' : 34,\n",
    "    \"Evs\" : 56\n",
    "}\n",
    "print(raju_dictionary)"
   ]
  },
  {
   "cell_type": "code",
   "execution_count": null,
   "metadata": {},
   "outputs": [],
   "source": [
    "company={\n",
    "    'emp001':{\n",
    "        'name':'Amar kumar',\n",
    "        'Designation': 'Assistant IIT',\n",
    "        'Salary': 32000,\n",
    "    },\n",
    "    'emp002':{\n",
    "        'name': 'Ranu Singh',\n",
    "        'Designation': 'Staff officer',\n",
    "        'Salary': 89000\n",
    "    },\n",
    "    'total_emp':2,\n",
    "    'department': 'Account',\n",
    "    'Vacancy':['clerk','manager','Assistant I']\n",
    "}"
   ]
  },
  {
   "cell_type": "code",
   "execution_count": null,
   "metadata": {},
   "outputs": [],
   "source": [
    "#adding data(key and value) in dict\n",
    "company['name']='Acme inc.'\n",
    "print(company)"
   ]
  },
  {
   "cell_type": "code",
   "execution_count": null,
   "metadata": {},
   "outputs": [],
   "source": [
    "#updating value\n",
    "company['total_emp']=3\n",
    "company['emp003']={\n",
    "    'name': 'Ajay verma',\n",
    "    'Designation': ' clerk',\n",
    "    'Salary': 45000\n",
    "}"
   ]
  },
  {
   "cell_type": "code",
   "execution_count": null,
   "metadata": {},
   "outputs": [],
   "source": [
    "company"
   ]
  },
  {
   "cell_type": "code",
   "execution_count": null,
   "metadata": {},
   "outputs": [],
   "source": [
    "#to value of existing key\n",
    "#company['emp003']\n",
    "company.get('Website')\n",
    "if 'Website' in company:\n",
    "    print('Website exist in dict')"
   ]
  },
  {
   "cell_type": "code",
   "execution_count": null,
   "metadata": {},
   "outputs": [],
   "source": [
    "print(company.keys())\n",
    "print(company.values())"
   ]
  },
  {
   "cell_type": "code",
   "execution_count": null,
   "metadata": {},
   "outputs": [],
   "source": [
    "print(company.items())"
   ]
  },
  {
   "cell_type": "code",
   "execution_count": null,
   "metadata": {},
   "outputs": [],
   "source": [
    "for i in company:\n",
    "    print(i,company[i])"
   ]
  },
  {
   "cell_type": "code",
   "execution_count": null,
   "metadata": {},
   "outputs": [],
   "source": [
    "for k,v in company.items():\n",
    "    print(k,v)"
   ]
  },
  {
   "cell_type": "code",
   "execution_count": null,
   "metadata": {},
   "outputs": [],
   "source": [
    "for k,v in company.items():\n",
    "    if isinstance(v,dict):\n",
    "        print(k)\n",
    "        for key,value in v.items():\n",
    "            print(\"\\t\",key,value)\n",
    "    else:\n",
    "        print(k,v)"
   ]
  },
  {
   "cell_type": "code",
   "execution_count": null,
   "metadata": {},
   "outputs": [],
   "source": []
  }
 ],
 "metadata": {
  "kernelspec": {
   "display_name": "base",
   "language": "python",
   "name": "python3"
  },
  "language_info": {
   "codemirror_mode": {
    "name": "ipython",
    "version": 3
   },
   "file_extension": ".py",
   "mimetype": "text/x-python",
   "name": "python",
   "nbconvert_exporter": "python",
   "pygments_lexer": "ipython3",
   "version": "3.10.10"
  },
  "orig_nbformat": 4
 },
 "nbformat": 4,
 "nbformat_minor": 2
}
