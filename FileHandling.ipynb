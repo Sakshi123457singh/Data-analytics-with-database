{
 "cells": [
  {
   "cell_type": "markdown",
   "metadata": {},
   "source": [
    "# file handling\n",
    "- open\n",
    "- read\n",
    "- write\n",
    "- append\n",
    "- close (this we will not use)\n",
    "   - we will use 'with' "
   ]
  },
  {
   "cell_type": "code",
   "execution_count": 1,
   "metadata": {},
   "outputs": [
    {
     "data": {
      "text/plain": [
       "<_io.TextIOWrapper name='t1.py' mode='r' encoding='UTF-8'>"
      ]
     },
     "execution_count": 1,
     "metadata": {},
     "output_type": "execute_result"
    }
   ],
   "source": [
    "open('t1.py')"
   ]
  },
  {
   "cell_type": "code",
   "execution_count": 3,
   "metadata": {},
   "outputs": [
    {
     "data": {
      "text/plain": [
       "\"from turtle import *\\nspeed ('slowest')\\npencolor('red')\\nfor i in range(6,40,2 ): #range(stop), range(start,stop) , range(start , stop, step)\\n    fd(120)\\n    lt(360/6)\\n    dot(10,'green')\\n    write(i,font=('calibari',20, 'bold'))\\n#reverse\\ngoto(100,100)\\nfor i in range(10,0,-1):\\n    fd(60)\\n    lt(360/10)\\n    dot(10, 'yellow')\\n    write(i, font=('calibari',20, 'bold'))\\nmainloop()\\n\""
      ]
     },
     "execution_count": 3,
     "metadata": {},
     "output_type": "execute_result"
    }
   ],
   "source": [
    "open('t1.py').read()"
   ]
  },
  {
   "cell_type": "code",
   "execution_count": 4,
   "metadata": {},
   "outputs": [
    {
     "name": "stdout",
     "output_type": "stream",
     "text": [
      "from turtle import *\n",
      "speed ('slowest')\n",
      "pencolor('red')\n",
      "for i in range(6,40,2 ): #range(stop), range(start,stop) , range(start , stop, step)\n",
      "    fd(120)\n",
      "    lt(360/6)\n",
      "    dot(10,'green')\n",
      "    write(i,font=('calibari',20, 'bold'))\n",
      "#reverse\n",
      "goto(100,100)\n",
      "for i in range(10,0,-1):\n",
      "    fd(60)\n",
      "    lt(360/10)\n",
      "    dot(10, 'yellow')\n",
      "    write(i, font=('calibari',20, 'bold'))\n",
      "mainloop()\n",
      "\n"
     ]
    }
   ],
   "source": [
    "#reading a file using with statement\n",
    "with open('t1.py')as file:\n",
    "    content = file.read()\n",
    "print(content)"
   ]
  },
  {
   "cell_type": "code",
   "execution_count": 5,
   "metadata": {},
   "outputs": [
    {
     "name": "stdout",
     "output_type": "stream",
     "text": [
      "from turtle import *\n",
      "speed ('slowest')\n",
      "pencolor('red')\n",
      "for i in range(6,40,2 ): #range(stop), range(start,stop) , range(start , stop, step)\n",
      "    fd(120)\n",
      "    lt(360/6)\n",
      "    dot(10,'green')\n",
      "    write(i,font=('calibari',20, 'bold'))\n",
      "#reverse\n",
      "goto(100,100)\n",
      "for i in range(10,0,-1):\n",
      "    fd(60)\n",
      "    lt(360/10)\n",
      "    dot(10, 'yellow')\n",
      "    write(i, font=('calibari',20, 'bold'))\n",
      "mainloop()\n",
      "\n"
     ]
    }
   ],
   "source": [
    "with open ('t1.py', encoding='utf-8', errors='ignore') as file:\n",
    "    content=file.read()\n",
    "print(content)\n",
    "#work same but if any error comes then we should use these things for ignoring errors and encoding\n"
   ]
  },
  {
   "cell_type": "code",
   "execution_count": 8,
   "metadata": {},
   "outputs": [
    {
     "name": "stdout",
     "output_type": "stream",
     "text": [
      "96173\n"
     ]
    }
   ],
   "source": [
    "path=r'C:\\Users\\shakhi\\Downloads\\sakshi.jpg'\n",
    "#open the file in read binary mode\n",
    "with open(path,'rb') as file:  #rb=read binary data\n",
    "    bytes=file.read()    \n",
    "print(len(bytes))"
   ]
  },
  {
   "cell_type": "code",
   "execution_count": 9,
   "metadata": {},
   "outputs": [
    {
     "name": "stdout",
     "output_type": "stream",
     "text": [
      "✅ File created successfully\n"
     ]
    }
   ],
   "source": [
    "#creating a text file\n",
    "data='Life before death\\nStrenth before weakness\\nJourney Before Destination'\n",
    "#'w' is the write mode\n",
    "with open('oath.txt','w')as f:\n",
    "    f.write(data)\n",
    "    print('✅ File created successfully')"
   ]
  },
  {
   "cell_type": "code",
   "execution_count": 13,
   "metadata": {},
   "outputs": [
    {
     "name": "stdout",
     "output_type": "stream",
     "text": [
      "✅ Kahani khatm\n"
     ]
    }
   ],
   "source": [
    "with open('kahani.txt','w') as file:\n",
    "    while True:\n",
    "        line= input('>>>')\n",
    "        if not line:\n",
    "            break\n",
    "        file.write(line+'\\n')\n",
    "    print('✅ Kahani khatm')"
   ]
  },
  {
   "cell_type": "code",
   "execution_count": 15,
   "metadata": {},
   "outputs": [
    {
     "name": "stdout",
     "output_type": "stream",
     "text": [
      "File update successfully\n"
     ]
    }
   ],
   "source": [
    "#adding content to existing file\n",
    "with open('oath.txt','a') as file:  #use a for append\n",
    "    file.write('\\nThe first ideal of knight radient\\n')\n",
    "    file.write('from the book:The way of kings\\n')\n",
    "    print('File update successfully')"
   ]
  },
  {
   "cell_type": "markdown",
   "metadata": {},
   "source": [
    "os library"
   ]
  },
  {
   "cell_type": "code",
   "execution_count": 16,
   "metadata": {},
   "outputs": [],
   "source": [
    "import os"
   ]
  },
  {
   "cell_type": "code",
   "execution_count": 17,
   "metadata": {},
   "outputs": [
    {
     "name": "stdout",
     "output_type": "stream",
     "text": [
      "The current path is: \n",
      "c:\\Users\\shakhi\\OneDrive\\Documents\\WindowsPowerShell\\Data analytics with database\n"
     ]
    }
   ],
   "source": [
    "print('The current path is: ')\n",
    "print(os.getcwd())#for current working directory\n"
   ]
  },
  {
   "cell_type": "code",
   "execution_count": 18,
   "metadata": {},
   "outputs": [
    {
     "name": "stdout",
     "output_type": "stream",
     "text": [
      "All the content in current directory: \n"
     ]
    },
    {
     "data": {
      "text/plain": [
       "['.git',\n",
       " 'basics.ipynb',\n",
       " 'conditions.ipynb',\n",
       " 'Dictionary.ipynb',\n",
       " 'FileHandling.ipynb',\n",
       " 'Hello.py',\n",
       " 'kahani.txt',\n",
       " 'list.ipynb',\n",
       " 'loop.ipynb',\n",
       " 'LoophomeWork.ipynb',\n",
       " 'oath.txt',\n",
       " 'String.ipynb',\n",
       " 'StringHomeWork.ipynb',\n",
       " 't1.py',\n",
       " 't2.py',\n",
       " 't3.py',\n",
       " 't4.py',\n",
       " 'tuple_set.ipynb']"
      ]
     },
     "execution_count": 18,
     "metadata": {},
     "output_type": "execute_result"
    }
   ],
   "source": [
    "print('All the content in current directory: ')\n",
    "os.listdir()"
   ]
  },
  {
   "cell_type": "code",
   "execution_count": 20,
   "metadata": {},
   "outputs": [
    {
     "name": "stdout",
     "output_type": "stream",
     "text": [
      "All the content of some other location\n"
     ]
    },
    {
     "data": {
      "text/plain": [
       "['asuslogo.bmp',\n",
       " 'asuslogo.png',\n",
       " 'Config',\n",
       " 'OOBEProc',\n",
       " 'RKShortcut',\n",
       " 'Shortcuts',\n",
       " 'Wallpapers']"
      ]
     },
     "execution_count": 20,
     "metadata": {},
     "output_type": "execute_result"
    }
   ],
   "source": [
    "print('All the content of some other location')\n",
    "path='C:/Windows/ASUS/'\n",
    "os.listdir(path)"
   ]
  },
  {
   "cell_type": "code",
   "execution_count": 23,
   "metadata": {},
   "outputs": [
    {
     "name": "stdout",
     "output_type": "stream",
     "text": [
      "C:/Users/shakhi/OneDrive/Pictures\\Camera Roll\\desktop.ini\n",
      "C:/Users/shakhi/OneDrive/Pictures\\Camera Roll\\WIN_20220403_23_23_12_Pro.jpg\n",
      "C:/Users/shakhi/OneDrive/Pictures\\Camera Roll\\WIN_20221015_22_54_18_Pro.jpg\n",
      "C:/Users/shakhi/OneDrive/Pictures\\Camera Roll\\WIN_20221015_22_54_47_Pro.jpg\n",
      "C:/Users/shakhi/OneDrive/Pictures\\Saved Pictures\\desktop.ini\n",
      "C:/Users/shakhi/OneDrive/Pictures\\Screenshots\\2022-11-17 (1).png\n",
      "C:/Users/shakhi/OneDrive/Pictures\\Screenshots\\2022-11-17 (2).png\n",
      "C:/Users/shakhi/OneDrive/Pictures\\Screenshots\\2022-11-17 (3).png\n",
      "C:/Users/shakhi/OneDrive/Pictures\\Screenshots\\2022-11-17 (4).png\n",
      "C:/Users/shakhi/OneDrive/Pictures\\Screenshots\\2022-11-17 (5).png\n",
      "C:/Users/shakhi/OneDrive/Pictures\\Screenshots\\2022-11-17.png\n",
      "C:/Users/shakhi/OneDrive/Pictures\\Screenshots\\2022-11-18 (1).png\n",
      "C:/Users/shakhi/OneDrive/Pictures\\Screenshots\\2022-11-18.png\n",
      "C:/Users/shakhi/OneDrive/Pictures\\Screenshots\\desktop.ini\n",
      "C:/Users/shakhi/OneDrive/Pictures\\Screenshots\\Screenshot (1).png\n",
      "C:/Users/shakhi/OneDrive/Pictures\\Screenshots\\Screenshot (10).png\n",
      "C:/Users/shakhi/OneDrive/Pictures\\Screenshots\\Screenshot (11).png\n",
      "C:/Users/shakhi/OneDrive/Pictures\\Screenshots\\Screenshot (12).png\n",
      "C:/Users/shakhi/OneDrive/Pictures\\Screenshots\\Screenshot (13).png\n",
      "C:/Users/shakhi/OneDrive/Pictures\\Screenshots\\Screenshot (14).png\n",
      "C:/Users/shakhi/OneDrive/Pictures\\Screenshots\\Screenshot (15).png\n",
      "C:/Users/shakhi/OneDrive/Pictures\\Screenshots\\Screenshot (2).png\n",
      "C:/Users/shakhi/OneDrive/Pictures\\Screenshots\\Screenshot (3).png\n",
      "C:/Users/shakhi/OneDrive/Pictures\\Screenshots\\Screenshot (4).png\n",
      "C:/Users/shakhi/OneDrive/Pictures\\Screenshots\\Screenshot (5).png\n",
      "C:/Users/shakhi/OneDrive/Pictures\\Screenshots\\Screenshot (6).png\n",
      "C:/Users/shakhi/OneDrive/Pictures\\Screenshots\\Screenshot (7).png\n",
      "C:/Users/shakhi/OneDrive/Pictures\\Screenshots\\Screenshot (8).png\n",
      "C:/Users/shakhi/OneDrive/Pictures\\Screenshots\\Screenshot (9).png\n",
      "C:/Users/shakhi/OneDrive/Pictures\\Screenshots\\Screenshot 2023-03-26 212800.png\n",
      "C:/Users/shakhi/OneDrive/Pictures\\Screenshots\\Screenshot 2023-03-26 212916.png\n",
      "C:/Users/shakhi/OneDrive/Pictures\\Screenshots\\Screenshot 2023-03-26 213126.png\n",
      "C:/Users/shakhi/OneDrive/Pictures\\Screenshots\\Screenshot 2023-03-26 213702.png\n",
      "C:/Users/shakhi/OneDrive/Pictures\\Screenshots\\Screenshot 2023-03-26 213753.png\n",
      "C:/Users/shakhi/OneDrive/Pictures\\Screenshots\\Screenshot 2023-03-26 213828.png\n",
      "C:/Users/shakhi/OneDrive/Pictures\\Screenshots\\Screenshot 2023-03-26 213851.png\n",
      "C:/Users/shakhi/OneDrive/Pictures\\Screenshots\\Screenshot 2023-03-26 214139.png\n",
      "C:/Users/shakhi/OneDrive/Pictures\\Screenshots\\Screenshot 2023-03-26 214201.png\n",
      "C:/Users/shakhi/OneDrive/Pictures\\Screenshots\\Screenshot 2023-03-26 214556.png\n",
      "C:/Users/shakhi/OneDrive/Pictures\\Screenshots\\Screenshot 2023-03-26 220407.png\n",
      "C:/Users/shakhi/OneDrive/Pictures\\Screenshots\\Screenshot 2023-03-26 220712.png\n",
      "C:/Users/shakhi/OneDrive/Pictures\\Screenshots\\Screenshot 2023-03-26 220752.png\n",
      "C:/Users/shakhi/OneDrive/Pictures\\Screenshots\\Screenshot 2023-03-26 220956.png\n",
      "C:/Users/shakhi/OneDrive/Pictures\\Screenshots\\Screenshot 2023-03-28 213639.png\n",
      "C:/Users/shakhi/OneDrive/Pictures\\Screenshots\\Screenshot 2023-03-28 214037.png\n",
      "C:/Users/shakhi/OneDrive/Pictures\\Screenshots\\Screenshot 2023-03-28 214411.png\n",
      "C:/Users/shakhi/OneDrive/Pictures\\Screenshots\\Screenshot 2023-03-28 215227.png\n",
      "C:/Users/shakhi/OneDrive/Pictures\\Screenshots\\Screenshot 2023-03-28 215309.png\n",
      "C:/Users/shakhi/OneDrive/Pictures\\Screenshots\\Screenshot 2023-03-28 220434.png\n",
      "C:/Users/shakhi/OneDrive/Pictures\\Screenshots\\Screenshot 2023-03-28 222648.png\n",
      "C:/Users/shakhi/OneDrive/Pictures\\Screenshots\\Screenshot 2023-03-28 222722.png\n",
      "C:/Users/shakhi/OneDrive/Pictures\\Screenshots\\Screenshot 2023-03-28 222909.png\n",
      "C:/Users/shakhi/OneDrive/Pictures\\Screenshots\\Screenshot 2023-03-28 222955.png\n",
      "C:/Users/shakhi/OneDrive/Pictures\\Screenshots\\Screenshot 2023-03-28 223134.png\n",
      "C:/Users/shakhi/OneDrive/Pictures\\Screenshots\\Screenshot 2023-03-28 223228.png\n",
      "C:/Users/shakhi/OneDrive/Pictures\\Screenshots\\Screenshot 2023-03-28 223310.png\n",
      "C:/Users/shakhi/OneDrive/Pictures\\Screenshots\\Screenshot 2023-03-28 224209.png\n",
      "C:/Users/shakhi/OneDrive/Pictures\\Screenshots\\Screenshot 2023-03-28 224257.png\n",
      "C:/Users/shakhi/OneDrive/Pictures\\Screenshots\\Screenshot 2023-03-28 224342.png\n",
      "C:/Users/shakhi/OneDrive/Pictures\\Screenshots\\Screenshot 2023-03-28 225037.png\n",
      "C:/Users/shakhi/OneDrive/Pictures\\Screenshots\\Screenshot 2023-04-18 152657.png\n",
      "C:/Users/shakhi/OneDrive/Pictures\\Screenshots\\Screenshot 2023-04-18 152750.png\n",
      "C:/Users/shakhi/OneDrive/Pictures\\Screenshots\\Screenshot 2023-04-18 152828.png\n",
      "C:/Users/shakhi/OneDrive/Pictures\\Screenshots\\Screenshot 2023-04-18 152850.png\n",
      "C:/Users/shakhi/OneDrive/Pictures\\Screenshots\\Screenshot 2023-04-18 152920.png\n",
      "C:/Users/shakhi/OneDrive/Pictures\\Screenshots\\Screenshot 2023-04-21 113420.png\n",
      "C:/Users/shakhi/OneDrive/Pictures\\Screenshots\\Screenshot 2023-04-21 114839.png\n",
      "C:/Users/shakhi/OneDrive/Pictures\\Screenshots\\Screenshot 2023-04-21 115456.png\n",
      "C:/Users/shakhi/OneDrive/Pictures\\Screenshots\\Screenshot 2023-04-21 132529.png\n",
      "C:/Users/shakhi/OneDrive/Pictures\\Screenshots\\Screenshot 2023-04-21 133546.png\n",
      "C:/Users/shakhi/OneDrive/Pictures\\Screenshots\\Screenshot 2023-04-21 133922.png\n",
      "C:/Users/shakhi/OneDrive/Pictures\\Screenshots\\Screenshot 2023-04-22 141604.png\n",
      "C:/Users/shakhi/OneDrive/Pictures\\Screenshots\\Screenshot 2023-04-22 150150.png\n",
      "C:/Users/shakhi/OneDrive/Pictures\\Screenshots\\Screenshot 2023-04-22 150507.png\n",
      "C:/Users/shakhi/OneDrive/Pictures\\Screenshots\\Screenshot 2023-04-22 152132.png\n",
      "C:/Users/shakhi/OneDrive/Pictures\\Screenshots\\Screenshot 2023-05-13 112711.png\n",
      "C:/Users/shakhi/OneDrive/Pictures\\Screenshots\\Screenshot 2023-05-13 113215.png\n",
      "C:/Users/shakhi/OneDrive/Pictures\\Screenshots\\Screenshot 2023-05-13 113546.png\n",
      "C:/Users/shakhi/OneDrive/Pictures\\Screenshots\\Screenshot 2023-05-13 114212.png\n",
      "C:/Users/shakhi/OneDrive/Pictures\\Screenshots\\Screenshot 2023-05-13 114604.png\n",
      "C:/Users/shakhi/OneDrive/Pictures\\Screenshots\\Screenshot 2023-05-13 114852.png\n",
      "C:/Users/shakhi/OneDrive/Pictures\\Screenshots\\Screenshot 2023-05-13 114910.png\n",
      "C:/Users/shakhi/OneDrive/Pictures\\Screenshots\\Screenshot 2023-05-13 114933.png\n",
      "C:/Users/shakhi/OneDrive/Pictures\\Screenshots\\Screenshot 2023-05-13 115058.png\n",
      "C:/Users/shakhi/OneDrive/Pictures\\Screenshots\\Screenshot 2023-05-13 115441.png\n",
      "C:/Users/shakhi/OneDrive/Pictures\\Screenshots\\Screenshot 2023-05-13 115506.png\n",
      "C:/Users/shakhi/OneDrive/Pictures\\Screenshots\\Screenshot 2023-05-13 115524.png\n",
      "C:/Users/shakhi/OneDrive/Pictures\\Screenshots\\Screenshot 2023-05-13 115542.png\n",
      "C:/Users/shakhi/OneDrive/Pictures\\Screenshots\\Screenshot 2023-05-13 115614.png\n",
      "C:/Users/shakhi/OneDrive/Pictures\\Screenshots\\Screenshot 2023-05-13 120204.png\n",
      "C:/Users/shakhi/OneDrive/Pictures\\Screenshots\\Screenshot 2023-05-13 120226.png\n",
      "C:/Users/shakhi/OneDrive/Pictures\\Screenshots\\Screenshot 2023-05-13 120943.png\n",
      "C:/Users/shakhi/OneDrive/Pictures\\Screenshots\\Screenshot 2023-05-13 121033.png\n",
      "C:/Users/shakhi/OneDrive/Pictures\\Screenshots\\Screenshot 2023-05-13 121053.png\n",
      "C:/Users/shakhi/OneDrive/Pictures\\Screenshots\\Screenshot 2023-05-13 121112.png\n",
      "C:/Users/shakhi/OneDrive/Pictures\\Screenshots\\Screenshot 2023-05-13 122228.png\n",
      "C:/Users/shakhi/OneDrive/Pictures\\Screenshots\\Screenshot 2023-05-13 122318.png\n",
      "C:/Users/shakhi/OneDrive/Pictures\\Screenshots\\Screenshot 2023-05-13 122359.png\n",
      "C:/Users/shakhi/OneDrive/Pictures\\Screenshots\\Screenshot 2023-05-13 122429.png\n",
      "C:/Users/shakhi/OneDrive/Pictures\\Screenshots\\Screenshot 2023-05-13 122511.png\n",
      "C:/Users/shakhi/OneDrive/Pictures\\Screenshots\\Screenshot 2023-05-23 144823.png\n",
      "C:/Users/shakhi/OneDrive/Pictures\\Screenshots\\Screenshot 2023-05-24 110228.png\n",
      "C:/Users/shakhi/OneDrive/Pictures\\Screenshots\\Screenshot_20221023_055559.png\n",
      "C:/Users/shakhi/OneDrive/Pictures\\Screenshots\\Screenshot_20221023_055638.png\n",
      "C:/Users/shakhi/OneDrive/Pictures\\Screenshots\\Screenshot_20221023_055707.png\n",
      "C:/Users/shakhi/OneDrive/Pictures\\Screenshots\\Screenshot_20221023_055738.png\n",
      "C:/Users/shakhi/OneDrive/Pictures\\Screenshots\\Screenshot_20221023_055803.png\n",
      "C:/Users/shakhi/OneDrive/Pictures\\Screenshots\\Screenshot_20221024_020931.png\n",
      "C:/Users/shakhi/OneDrive/Pictures\\Screenshots\\Screenshot_20221028_010406.png\n",
      "C:/Users/shakhi/OneDrive/Pictures\\Screenshots\\Screenshot_20221028_122802.png\n",
      "C:/Users/shakhi/OneDrive/Pictures\\Screenshots\\Screenshot_20221028_122837.png\n",
      "C:/Users/shakhi/OneDrive/Pictures\\Screenshots\\Screenshot_20221028_122926.png\n",
      "C:/Users/shakhi/OneDrive/Pictures\\Screenshots\\Screenshot_20221028_124005.png\n",
      "C:/Users/shakhi/OneDrive/Pictures\\Screenshots\\Screenshot_20221028_124305.png\n",
      "C:/Users/shakhi/OneDrive/Pictures\\Screenshots\\Screenshot_20221028_124619.png\n",
      "C:/Users/shakhi/OneDrive/Pictures\\Screenshots\\Screenshot_20221028_124649.png\n",
      "C:/Users/shakhi/OneDrive/Pictures\\Screenshots\\Screenshot_20221028_124740.png\n",
      "C:/Users/shakhi/OneDrive/Pictures\\Screenshots\\Screenshot_20221028_124831.png\n",
      "C:/Users/shakhi/OneDrive/Pictures\\Screenshots\\Screenshot_20221029_115343.png\n",
      "C:/Users/shakhi/OneDrive/Pictures\\Screenshots\\Screenshot_20221029_115708.png\n",
      "C:/Users/shakhi/OneDrive/Pictures\\Screenshots\\Screenshot_20221029_115925.png\n",
      "C:/Users/shakhi/OneDrive/Pictures\\Screenshots\\Screenshot_20221029_120730.png\n",
      "C:/Users/shakhi/OneDrive/Pictures\\Screenshots\\Screenshot_20221029_121117.png\n",
      "C:/Users/shakhi/OneDrive/Pictures\\Screenshots\\Screenshot_20221029_122132.png\n",
      "C:/Users/shakhi/OneDrive/Pictures\\Screenshots\\Screenshot_20221029_124346.png\n",
      "C:/Users/shakhi/OneDrive/Pictures\\Screenshots\\Screenshot_20221115_022041.png\n",
      "C:/Users/shakhi/OneDrive/Pictures\\Screenshots\\Screenshot_20221115_022113.png\n",
      "C:/Users/shakhi/OneDrive/Pictures\\Screenshots\\Screenshot_20221115_022142.png\n",
      "C:/Users/shakhi/OneDrive/Pictures\\Screenshots\\Screenshot_20221115_022753.png\n",
      "C:/Users/shakhi/OneDrive/Pictures\\Screenshots\\Screenshot_20221117_022225.png\n",
      "C:/Users/shakhi/OneDrive/Pictures\\Screenshots\\Screenshot_20221117_071146.png\n",
      "C:/Users/shakhi/OneDrive/Pictures\\Screenshots\\Screenshot_20221117_071232.png\n",
      "C:/Users/shakhi/OneDrive/Pictures\\Screenshots\\Screenshot_20221117_071348.png\n",
      "C:/Users/shakhi/OneDrive/Pictures\\Screenshots\\Screenshot_20221117_073632.png\n",
      "C:/Users/shakhi/OneDrive/Pictures\\Screenshots\\Screenshot_20221117_073654.png\n",
      "C:/Users/shakhi/OneDrive/Pictures\\Screenshots\\Screenshot_20221117_073724.png\n",
      "C:/Users/shakhi/OneDrive/Pictures\\Screenshots\\Screenshot_20221117_074114.png\n",
      "C:/Users/shakhi/OneDrive/Pictures\\Screenshots\\Screenshot_20221117_075851.png\n",
      "C:/Users/shakhi/OneDrive/Pictures\\Screenshots\\Screenshot_20221117_090440.png\n",
      "C:/Users/shakhi/OneDrive/Pictures\\Screenshots\\Screenshot_20221117_091423.png\n",
      "C:/Users/shakhi/OneDrive/Pictures\\Screenshots\\Screenshot_20221117_091541.png\n",
      "C:/Users/shakhi/OneDrive/Pictures\\Screenshots\\Screenshot_20221117_091637.png\n",
      "C:/Users/shakhi/OneDrive/Pictures\\Screenshots\\Screenshot_20221117_092424.png\n",
      "C:/Users/shakhi/OneDrive/Pictures\\Screenshots\\Screenshot_20221117_092503.png\n",
      "C:/Users/shakhi/OneDrive/Pictures\\Screenshots\\Screenshot_20221117_092908.png\n",
      "C:/Users/shakhi/OneDrive/Pictures\\Screenshots\\Screenshot_20221117_092954.png\n",
      "C:/Users/shakhi/OneDrive/Pictures\\Screenshots\\Screenshot_20221117_093007.png\n",
      "C:/Users/shakhi/OneDrive/Pictures\\Screenshots\\Screenshot_20221117_093053.png\n",
      "C:/Users/shakhi/OneDrive/Pictures\\Screenshots\\Screenshot_20221117_093139.png\n",
      "C:/Users/shakhi/OneDrive/Pictures\\Screenshots\\Screenshot_20221117_101441.png\n",
      "C:/Users/shakhi/OneDrive/Pictures\\Screenshots\\Screenshot_20221117_112741.png\n",
      "C:/Users/shakhi/OneDrive/Pictures\\Screenshots\\Screenshot_20221117_112819.png\n",
      "C:/Users/shakhi/OneDrive/Pictures\\Screenshots\\Screenshot_20221117_112845.png\n",
      "C:/Users/shakhi/OneDrive/Pictures\\Screenshots\\Screenshot_20221117_113257.png\n",
      "C:/Users/shakhi/OneDrive/Pictures\\Screenshots\\Screenshot_20221117_120001.png\n",
      "C:/Users/shakhi/OneDrive/Pictures\\Screenshots\\Screenshot_20221117_120049.png\n",
      "C:/Users/shakhi/OneDrive/Pictures\\Screenshots\\Screenshot_20221117_120109.png\n",
      "C:/Users/shakhi/OneDrive/Pictures\\Screenshots\\Screenshot_20221117_120245.png\n",
      "C:/Users/shakhi/OneDrive/Pictures\\Screenshots\\Screenshot_20221120_100109.png\n",
      "C:/Users/shakhi/OneDrive/Pictures\\Screenshots\\Screenshot_20221126_094839.png\n",
      "C:/Users/shakhi/OneDrive/Pictures\\Screenshots\\Screenshot_20221126_100207.png\n",
      "C:/Users/shakhi/OneDrive/Pictures\\Screenshots\\Screenshot_20221126_100222.png\n",
      "C:/Users/shakhi/OneDrive/Pictures\\Screenshots\\Screenshot_20221126_100419.png\n",
      "C:/Users/shakhi/OneDrive/Pictures\\Screenshots\\Screenshot_20221126_104919.png\n",
      "C:/Users/shakhi/OneDrive/Pictures\\Screenshots\\Screenshot_20221126_105049.png\n",
      "C:/Users/shakhi/OneDrive/Pictures\\Screenshots\\Screenshot_20221126_105211.png\n",
      "C:/Users/shakhi/OneDrive/Pictures\\Screenshots\\Screenshot_20221126_105613.png\n",
      "C:/Users/shakhi/OneDrive/Pictures\\Screenshots\\Screenshot_20221126_105633.png\n",
      "C:/Users/shakhi/OneDrive/Pictures\\Screenshots\\Screenshot_20221126_105936.png\n",
      "C:/Users/shakhi/OneDrive/Pictures\\Screenshots\\Screenshot_20221126_105955.png\n",
      "C:/Users/shakhi/OneDrive/Pictures\\Screenshots\\Screenshot_20221126_110004.png\n",
      "C:/Users/shakhi/OneDrive/Pictures\\Screenshots\\Screenshot_20221126_110059.png\n",
      "C:/Users/shakhi/OneDrive/Pictures\\Screenshots\\Screenshot_20221126_110356.png\n",
      "C:/Users/shakhi/OneDrive/Pictures\\Screenshots\\Screenshot_20221126_110434.png\n",
      "C:/Users/shakhi/OneDrive/Pictures\\Screenshots\\Screenshot_20221126_110516.png\n",
      "C:/Users/shakhi/OneDrive/Pictures\\Screenshots\\Screenshot_20221126_110542.png\n",
      "C:/Users/shakhi/OneDrive/Pictures\\Screenshots\\Screenshot_20221126_110621.png\n",
      "C:/Users/shakhi/OneDrive/Pictures\\Screenshots\\Screenshot_20221126_110654.png\n",
      "C:/Users/shakhi/OneDrive/Pictures\\Screenshots\\Screenshot_20221129_010258.png\n",
      "C:/Users/shakhi/OneDrive/Pictures\\Screenshots\\Screenshot_20221129_010325.png\n",
      "C:/Users/shakhi/OneDrive/Pictures\\Screenshots\\Screenshot_20221129_014158.png\n",
      "C:/Users/shakhi/OneDrive/Pictures\\Screenshots\\Screenshot_20221129_014252.png\n",
      "C:/Users/shakhi/OneDrive/Pictures\\Screenshots\\Screenshot_20221129_014424.png\n",
      "C:/Users/shakhi/OneDrive/Pictures\\Screenshots\\Screenshot_20230102_021521.png\n",
      "C:/Users/shakhi/OneDrive/Pictures\\Screenshots\\New folder\n",
      "C:/Users/shakhi/OneDrive/Pictures\\32.png\n",
      "C:/Users/shakhi/OneDrive/Pictures\\asc.png\n",
      "C:/Users/shakhi/OneDrive/Pictures\\asce.png\n",
      "C:/Users/shakhi/OneDrive/Pictures\\c++.png\n",
      "C:/Users/shakhi/OneDrive/Pictures\\c++1.png\n",
      "C:/Users/shakhi/OneDrive/Pictures\\dbms 1.PNG\n",
      "C:/Users/shakhi/OneDrive/Pictures\\desktop.ini\n",
      "C:/Users/shakhi/OneDrive/Pictures\\merge.png\n",
      "C:/Users/shakhi/OneDrive/Pictures\\merge2.png\n",
      "C:/Users/shakhi/OneDrive/Pictures\\mine photo.JPG\n",
      "C:/Users/shakhi/OneDrive/Pictures\\mongo 4.png\n",
      "C:/Users/shakhi/OneDrive/Pictures\\mongo.png\n",
      "C:/Users/shakhi/OneDrive/Pictures\\neha didi.jpeg\n",
      "C:/Users/shakhi/OneDrive/Pictures\\queue code.png\n",
      "C:/Users/shakhi/OneDrive/Pictures\\queue.png\n",
      "C:/Users/shakhi/OneDrive/Pictures\\reverse1.png\n",
      "C:/Users/shakhi/OneDrive/Pictures\\reverse2.png\n",
      "C:/Users/shakhi/OneDrive/Pictures\\sakshooo.png\n",
      "C:/Users/shakhi/OneDrive/Pictures\\Screenshot 2022-05-26 233810.png\n",
      "C:/Users/shakhi/OneDrive/Pictures\\Screenshot 2022-05-26 233909.png\n",
      "C:/Users/shakhi/OneDrive/Pictures\\Screenshot 2022-05-26 234117.png\n",
      "C:/Users/shakhi/OneDrive/Pictures\\Screenshot 2022-05-26 234205.png\n",
      "C:/Users/shakhi/OneDrive/Pictures\\Screenshot 2022-05-26 234248.png\n",
      "C:/Users/shakhi/OneDrive/Pictures\\Screenshot 2022-05-26 234328.png\n",
      "C:/Users/shakhi/OneDrive/Pictures\\Screenshot 2022-05-27 001346.png\n",
      "C:/Users/shakhi/OneDrive/Pictures\\Screenshot 2022-05-27 001457.png\n",
      "C:/Users/shakhi/OneDrive/Pictures\\Screenshot 2022-05-27 001621.png\n",
      "C:/Users/shakhi/OneDrive/Pictures\\Screenshot 2022-05-27 001701.png\n",
      "C:/Users/shakhi/OneDrive/Pictures\\Screenshot 2022-05-27 002547.png\n",
      "C:/Users/shakhi/OneDrive/Pictures\\Screenshot 2022-05-27 002638.png\n",
      "C:/Users/shakhi/OneDrive/Pictures\\Screenshot 2022-05-27 002802.png\n",
      "C:/Users/shakhi/OneDrive/Pictures\\Screenshot 2022-05-27 002935.png\n",
      "C:/Users/shakhi/OneDrive/Pictures\\Screenshot 2022-05-27 003214.png\n",
      "C:/Users/shakhi/OneDrive/Pictures\\Screenshot 2022-05-27 003518.png\n",
      "C:/Users/shakhi/OneDrive/Pictures\\Screenshot 2022-05-27 003853.png\n",
      "C:/Users/shakhi/OneDrive/Pictures\\Screenshot 2022-05-27 004058.png\n",
      "C:/Users/shakhi/OneDrive/Pictures\\Screenshot 2022-05-27 010343.png\n",
      "C:/Users/shakhi/OneDrive/Pictures\\Screenshot 2022-05-27 011500.png\n",
      "C:/Users/shakhi/OneDrive/Pictures\\Screenshot 2022-05-27 011807.png\n",
      "C:/Users/shakhi/OneDrive/Pictures\\Screenshot 2022-05-27 012004.png\n",
      "C:/Users/shakhi/OneDrive/Pictures\\Screenshot 2022-05-27 012149.png\n",
      "C:/Users/shakhi/OneDrive/Pictures\\Screenshot 2022-05-27 012459.png\n",
      "C:/Users/shakhi/OneDrive/Pictures\\Screenshot 2022-05-27 012626.png\n",
      "C:/Users/shakhi/OneDrive/Pictures\\signature.jpeg\n",
      "C:/Users/shakhi/OneDrive/Pictures\\ss.png\n",
      "C:/Users/shakhi/OneDrive/Pictures\\sss.png\n",
      "C:/Users/shakhi/OneDrive/Pictures\\THE PICHERS.png\n",
      "C:/Users/shakhi/OneDrive/Pictures\\WhatsApp Image 2022-04-03 at 23.26.29 (1).jpeg\n",
      "C:/Users/shakhi/OneDrive/Pictures\\Camera Roll\n",
      "C:/Users/shakhi/OneDrive/Pictures\\Saved Pictures\n",
      "C:/Users/shakhi/OneDrive/Pictures\\Screenshots\n"
     ]
    }
   ],
   "source": [
    "#recursive file and folder\n",
    "for root,dirs,files in os.walk('C:/Users/shakhi/OneDrive/Pictures', topdown=False):\n",
    "    for name in files:\n",
    "        print(os.path.join(root,name))\n",
    "    for name in dirs:\n",
    "        print(os.path.join(root,name))"
   ]
  },
  {
   "cell_type": "code",
   "execution_count": null,
   "metadata": {},
   "outputs": [],
   "source": []
  }
 ],
 "metadata": {
  "kernelspec": {
   "display_name": "base",
   "language": "python",
   "name": "python3"
  },
  "language_info": {
   "codemirror_mode": {
    "name": "ipython",
    "version": 3
   },
   "file_extension": ".py",
   "mimetype": "text/x-python",
   "name": "python",
   "nbconvert_exporter": "python",
   "pygments_lexer": "ipython3",
   "version": "3.10.10"
  },
  "orig_nbformat": 4
 },
 "nbformat": 4,
 "nbformat_minor": 2
}
